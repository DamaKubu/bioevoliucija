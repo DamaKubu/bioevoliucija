{
 "cells": [
  {
   "cell_type": "markdown",
   "id": "8ec0ab0e",
   "metadata": {
    "ExecuteTime": {
     "end_time": "2023-11-24T10:22:10.383772Z",
     "start_time": "2023-11-24T10:22:10.378848Z"
    },
    "slideshow": {
     "slide_type": "slide"
    }
   },
   "source": [
    " Natūralios atrankos poveikis - DI ar žmonės pranašesni? \n",
    "================================================ \n",
    " \n",
    "\n",
    "\n",
    "\n",
    "**Danielius Kundrotas**"
   ]
  },
  {
   "cell_type": "markdown",
   "id": "69e6ab48",
   "metadata": {
    "ExecuteTime": {
     "end_time": "2023-11-29T11:45:43.790398Z",
     "start_time": "2023-11-29T11:45:43.785420Z"
    },
    "slideshow": {
     "slide_type": "slide"
    }
   },
   "source": [
    "Optimizavimas gradientu\n",
    "====================="
   ]
  },
  {
   "cell_type": "markdown",
   "id": "5d7ece62",
   "metadata": {
    "ExecuteTime": {
     "end_time": "2023-11-29T11:49:05.913178Z",
     "start_time": "2023-11-29T11:49:05.906577Z"
    },
    "slideshow": {
     "slide_type": "slide"
    }
   },
   "source": [
    "\n",
    "$$F(\\text{parametrai}) = \\sum_{\\text{input}}f(\\text{input},\\text{parametrai})$$\n"
   ]
  },
  {
   "cell_type": "markdown",
   "id": "2bc68927",
   "metadata": {
    "ExecuteTime": {
     "end_time": "2023-11-24T10:38:08.416577Z",
     "start_time": "2023-11-24T10:38:08.407989Z"
    },
    "cell_style": "center",
    "slideshow": {
     "slide_type": "fragment"
    }
   },
   "source": [
    "$$\\text{nauji_parametrai} = \\text{parametrai} - \\text{mokymosi_sparta}*\\nabla F(parametrai)$$"
   ]
  },
  {
   "cell_type": "markdown",
   "id": "b70c308d",
   "metadata": {
    "slideshow": {
     "slide_type": "slide"
    }
   },
   "source": [
    "<figure>\n",
    "    <img src=\"images/grad.png\" style=\"width:80%\">\n",
    "    <figcaption align = \"center\">  </figcaption>\n",
    "</figure>\n"
   ]
  },
  {
   "cell_type": "markdown",
   "id": "8810f3ea",
   "metadata": {
    "slideshow": {
     "slide_type": "slide"
    }
   },
   "source": [
    "Adaptyvumo funkcija:\n",
    "------------------------"
   ]
  },
  {
   "cell_type": "markdown",
   "id": "0953cb75",
   "metadata": {
    "slideshow": {
     "slide_type": "slide"
    }
   },
   "source": [
    " 1. gyvio_tankis - vandens_tankis\n",
    "\n",
    " 2. tūris / paviršiaus plotas\n",
    "\n",
    " 3. gyvio miego ilgis - nakties ilgis\n",
    "\n",
    "\n",
    "  "
   ]
  },
  {
   "cell_type": "markdown",
   "id": "29ccabc4",
   "metadata": {
    "slideshow": {
     "slide_type": "fragment"
    }
   },
   "source": [
    "$$F( \\text{gyvio parametrai} )=(1)^2+(2)^2+(3)^2$$"
   ]
  },
  {
   "cell_type": "markdown",
   "id": "535a178f",
   "metadata": {
    "ExecuteTime": {
     "end_time": "2023-11-29T11:34:26.276188Z",
     "start_time": "2023-11-29T11:34:26.265420Z"
    },
    "slideshow": {
     "slide_type": "slide"
    }
   },
   "source": [
    "Ar aplinka keičiasi?\n",
    "----------------------------\n",
    "- Nesikeičia\n",
    "- Keičiasi lėtai\n",
    "- Keičiasi greitai"
   ]
  },
  {
   "cell_type": "code",
   "execution_count": 7,
   "id": "506b4dda",
   "metadata": {
    "ExecuteTime": {
     "end_time": "2023-11-29T14:31:11.150277Z",
     "start_time": "2023-11-29T14:31:10.583008Z"
    },
    "slideshow": {
     "slide_type": "skip"
    }
   },
   "outputs": [],
   "source": [
    "import numpy as np\n",
    "import matplotlib.pyplot as plt\n",
    "\n",
    "\n",
    "#Gyvio_APLINKA(gyvio_parametrai) =\n",
    "#[gyvio_tankis, gyvio_tūris, gyvio_paviršiaus_plotas, gyvis_miega]\n",
    "#gyvis_pradinis = [5, 23, 1, 4]\n",
    "\n",
    "#gyviui reikia būti greitesniam už plėšrūną, bet\n",
    "#didesnis greitis jam kainuoja judėjimo efektyvumu\n",
    "#gyvio_greitis - (plėšrūno_greitis + 1) = 0\n",
    "\n",
    "##gtan - APLINKA[0])**2+(gturis / gpp)**2 \n",
    "#         + (APLINKA[2] / gturis)**2\n",
    " #        + (gmi - APLINKA[1])**2\n",
    "#\n",
    "\n",
    "\n",
    "def printGyvis(gyvis, gyvis2, kartu):\n",
    "    gyvis = np.array(gyvis, dtype=np.float32)\n",
    "    print(\"Pradinis Gyvis {kartu} kartų ==> Evoliucionavęs gyvis \\n\")\n",
    "    print(f\"gyvio_tankis            = {gyvis[0]:2.2f} ==> {gyvis2[0]:2.2f}\")\n",
    "    print(f\"gyvio_tūris             = {gyvis[1]:2.2f} ==> {gyvis2[1]:2.2f}\")\n",
    "    print(f\"gyvio_paviršiaus_plotas = {gyvis[2]:2.2f} ==> {gyvis2[2]:2.2f}\")\n",
    "    print(f\"gyvis_miega             = {gyvis[3]:2.2f} ==> {gyvis2[3]:2.2f}h\\n\")\n",
    "\n"
   ]
  },
  {
   "cell_type": "markdown",
   "id": "74b61065",
   "metadata": {
    "ExecuteTime": {
     "end_time": "2023-11-29T12:50:01.494176Z",
     "start_time": "2023-11-29T12:50:01.487985Z"
    },
    "slideshow": {
     "slide_type": "slide"
    }
   },
   "source": [
    "Papraščiausia implementacija\n",
    "-----------------------------"
   ]
  },
  {
   "cell_type": "code",
   "execution_count": 197,
   "id": "00922925",
   "metadata": {
    "ExecuteTime": {
     "end_time": "2023-11-30T05:33:04.820727Z",
     "start_time": "2023-11-30T05:33:04.814593Z"
    },
    "slideshow": {
     "slide_type": "slide"
    }
   },
   "outputs": [],
   "source": [
    "#Gyvio 1/vertingumo funkcija\n",
    "def F(g):\n",
    "\n",
    "    eilute_1 = g[0] - APLINKA[0]\n",
    "    eilute_2 = g[1] / g[2]\n",
    "    eilute_3 = g[3] - APLINKA[1]\n",
    "\n",
    "    return eilute_1**2 + eilute_2**2 + eilute_3**2\n",
    "\n",
    "\n",
    "#Gradientas\n",
    "def gradF(g):\n",
    "    return np.array([\n",
    "        2 * (g[0] - APLINKA[0]),\n",
    "        2 * (g[1] / g[2]),\n",
    "        -2 * (g[1]**2) / g[2]**3,\n",
    "        2 * (g[3] - APLINKA[1])\n",
    "    ])\n"
   ]
  },
  {
   "cell_type": "code",
   "execution_count": 229,
   "id": "409ab77b",
   "metadata": {
    "ExecuteTime": {
     "end_time": "2023-11-30T06:53:04.480553Z",
     "start_time": "2023-11-30T06:53:04.471488Z"
    },
    "slideshow": {
     "slide_type": "slide"
    }
   },
   "outputs": [],
   "source": [
    "#labels = [gyvio_tankis, gyvio_tūris, gyvio_paviršiaus_plotas, gyvio_miego_laikas]\n",
    "gyvis_pradinis = [10, 6, 2, 30]\n",
    "#gyvis_pradinis = [42, 123,14523,23]\n",
    "gyvis_senas = gyvis_pradinis\n",
    "\n",
    "\n",
    "#APLINKA = [vandens_tankis, nakties_ilgis]\n",
    "APLINKA = [1, 12]\n",
    "\n",
    "mkarta = 0\n",
    "gg = [[]]\n",
    "ggloss = [[]]"
   ]
  },
  {
   "cell_type": "code",
   "execution_count": 199,
   "id": "8b442653",
   "metadata": {
    "ExecuteTime": {
     "end_time": "2023-11-30T05:33:05.109589Z",
     "start_time": "2023-11-30T05:33:05.101880Z"
    },
    "slideshow": {
     "slide_type": "slide"
    }
   },
   "outputs": [
    {
     "name": "stdout",
     "output_type": "stream",
     "text": [
      "pradinis adaptyvumas = 0.00, karta = 0 \n",
      "adaptyvumas = 0.00, karta = 0\n",
      "adaptyvumas = 0.00, karta = 20\n",
      "adaptyvumas = 0.00, karta = 40\n",
      "adaptyvumas = 0.01, karta = 60\n",
      "adaptyvumas = 0.01, karta = 80\n"
     ]
    }
   ],
   "source": [
    "sparta = 0.01 #speju galime traktuoti, kaip tikimybe neisgyventi\n",
    "\n",
    "print(f\"pradinis adaptyvumas = {1/F(gyvis_senas):2.2f}, karta = 0 \")\n",
    "\n",
    "\n",
    "for karta in range(100):\n",
    "    \n",
    "    gyvis_naujas = gyvis_senas - sparta * gradF(gyvis_senas)\n",
    "    \n",
    "    gyvis_senas  = gyvis_naujas\n",
    "\n",
    "    if karta % (20) == 0:\n",
    "        print(f\"adaptyvumas = {1/F(gyvis_naujas):2.2f}, karta = {karta+mkarta}\")\n",
    "    \n",
    "    gg.append(gyvis_senas)\n",
    "    ggloss.append(1/F(gyvis_naujas))\n",
    "    \n",
    "    \n",
    "mkarta +=100"
   ]
  },
  {
   "cell_type": "code",
   "execution_count": 200,
   "id": "a3eeb766",
   "metadata": {
    "ExecuteTime": {
     "end_time": "2023-11-30T05:33:05.553541Z",
     "start_time": "2023-11-30T05:33:05.238699Z"
    },
    "slideshow": {
     "slide_type": "slide"
    }
   },
   "outputs": [
    {
     "data": {
      "text/plain": [
       "<matplotlib.legend.Legend at 0x7f8f5dc22a90>"
      ]
     },
     "execution_count": 200,
     "metadata": {},
     "output_type": "execute_result"
    },
    {
     "data": {
      "image/png": "[encoded data removed]",
      "text/plain": [
       "<Figure size 640x480 with 1 Axes>"
      ]
     },
     "metadata": {},
     "output_type": "display_data"
    }
   ],
   "source": [
    "plt.plot(ggloss[1:], label = \"Gyvio adaptyvumas\")\n",
    "plt.ylabel('Adaptyvumas')\n",
    "plt.xlabel('Kartų skaičius')\n",
    "plt.legend()"
   ]
  },
  {
   "cell_type": "code",
   "execution_count": 201,
   "id": "673f324c",
   "metadata": {
    "ExecuteTime": {
     "end_time": "2023-11-30T05:33:06.515015Z",
     "start_time": "2023-11-30T05:33:06.215829Z"
    },
    "slideshow": {
     "slide_type": "slide"
    }
   },
   "outputs": [
    {
     "data": {
      "text/plain": [
       "<matplotlib.legend.Legend at 0x7f8f5dbcabd0>"
      ]
     },
     "execution_count": 201,
     "metadata": {},
     "output_type": "execute_result"
    },
    {
     "data": {
      "image/png": "[encoded data removed]",
      "text/plain": [
       "<Figure size 640x480 with 1 Axes>"
      ]
     },
     "metadata": {},
     "output_type": "display_data"
    }
   ],
   "source": [
    "labelso = [\"gyvio_tankis\", \"gyvio_tūris\", \"gyvio_paviršiaus_plotas\", \"gyvio_miego_laikas\"]\n",
    "ggg = np.array(gg[1:])\n",
    "#plt.figure(figsize=(10,6))\n",
    "for i in range(len(gyvis_pradinis)):\n",
    "    plt.plot(ggg.transpose()[i], label = labelso[i])\n",
    "plt.xlabel(\"Kartos\")\n",
    "plt.legend()\n"
   ]
  },
  {
   "cell_type": "code",
   "execution_count": 202,
   "id": "aa23d824",
   "metadata": {
    "ExecuteTime": {
     "end_time": "2023-11-30T05:33:08.934582Z",
     "start_time": "2023-11-30T05:33:08.928345Z"
    },
    "slideshow": {
     "slide_type": "slide"
    }
   },
   "outputs": [
    {
     "name": "stdout",
     "output_type": "stream",
     "text": [
      "Pradinis Gyvis {kartu} kartų ==> Evoliucionavęs gyvis \n",
      "\n",
      "gyvio_tankis            = 42.00 ==> 6.44\n",
      "gyvio_tūris             = 123.00 ==> 122.98\n",
      "gyvio_paviršiaus_plotas = 14523.00 ==> 14523.00\n",
      "gyvis_miega             = 23.00 ==> 13.46h\n",
      "\n",
      "\n",
      " APLINKA: \n",
      "   vandens_tankis = 1\n",
      "   nakties_ilgis = 12h\n"
     ]
    }
   ],
   "source": [
    "printGyvis(gyvis_pradinis, gyvis_naujas, mkarta)\n",
    "print(f\"\\n APLINKA: \\n   vandens_tankis = {APLINKA[0]}\\n   nakties_ilgis = {APLINKA[1]}h\")"
   ]
  },
  {
   "cell_type": "markdown",
   "id": "32d40009",
   "metadata": {
    "slideshow": {
     "slide_type": "slide"
    }
   },
   "source": [
    "\n",
    "<figure>\n",
    "    <img src=\"images/grad3.png\" style=\"width:80%\">\n",
    "    <figcaption align = \"center\"> </figcaption>\n",
    "</figure>"
   ]
  },
  {
   "cell_type": "markdown",
   "id": "89b44a40",
   "metadata": {
    "slideshow": {
     "slide_type": "slide"
    }
   },
   "source": [
    "Pridėkime plėšrūną!\n",
    "-----------------------------\n",
    " a. gyvio greitis - (plėšrūno greitis)*1.1\n",
    "\n",
    "    \n",
    "$$F( \\text{gyvio parametrai} )=(1)^2+(2)^2+(3)^2 + (a)^2$$\n"
   ]
  },
  {
   "cell_type": "markdown",
   "id": "9f595ca9",
   "metadata": {
    "ExecuteTime": {
     "end_time": "2023-11-29T13:01:23.897253Z",
     "start_time": "2023-11-29T13:01:23.887424Z"
    },
    "slideshow": {
     "slide_type": "fragment"
    }
   },
   "source": [
    "b. (gyvio greitis) - (plėšrūno greitis)*0.5\n",
    "\n",
    "    \n",
    "$$H( \\text{plėšrūno parametrai} )=(1)^2+(2)^2+(3)^2 + (b)^2$$"
   ]
  },
  {
   "cell_type": "code",
   "execution_count": 242,
   "id": "6eaa2204",
   "metadata": {
    "ExecuteTime": {
     "end_time": "2023-11-30T08:04:17.372072Z",
     "start_time": "2023-11-30T08:04:17.356931Z"
    },
    "code_folding": [
     1,
     12
    ],
    "slideshow": {
     "slide_type": "slide"
    }
   },
   "outputs": [],
   "source": [
    "#Gyvio 1/vertingumo funkcija\n",
    "def F(g,p):\n",
    "\n",
    "    eilute_1 = g[0] - APLINKA[0]\n",
    "    eilute_2 = g[1] / g[2]\n",
    "    eilute_3 = g[3] - APLINKA[1]\n",
    "    eilute_5 = (g[4] - p[4]*1.1)\n",
    "\n",
    "    return eilute_1**2 + eilute_2**2 + eilute_3**2 + eilute_5**2\n",
    "\n",
    "\n",
    "#Gradientas\n",
    "def gradF(g,p):\n",
    "    return np.array([\n",
    "        2 * (g[0] - APLINKA[0]),\n",
    "        2 * (g[1] / g[2])*p[1],\n",
    "        -2 * (g[1]**2) / g[2]**3,\n",
    "        2 * (g[3] - APLINKA[1]),   \n",
    "        \n",
    "        2 * (g[4]-p[4]*1.1)\n",
    "    ])"
   ]
  },
  {
   "cell_type": "code",
   "execution_count": 243,
   "id": "20542320",
   "metadata": {
    "ExecuteTime": {
     "end_time": "2023-11-30T08:04:19.462961Z",
     "start_time": "2023-11-30T08:04:19.449707Z"
    },
    "code_folding": [
     1,
     11
    ],
    "slideshow": {
     "slide_type": "slide"
    }
   },
   "outputs": [],
   "source": [
    "#plesruno loss\n",
    "def H(g, p):\n",
    "    eilute_1 = p[0] - APLINKA[0]\n",
    "    eilute_2 = p[1] / p[2]\n",
    "    eilute_3 = p[3] - APLINKA[1]\n",
    "    \n",
    "    eilute_5 = (g[4] - p[4])\n",
    "    \n",
    "    return eilute_1**2 + eilute_2**2 + eilute_3**2 + eilute_5**2\n",
    "\n",
    "#plesruno gradientas\n",
    "def gradH(g,p):\n",
    "    return np.array(\n",
    "        [2 * (p[0] - APLINKA[0]),\n",
    "         2 * (p[1] / p[2]),\n",
    "        -2 * (p[1]**2) / p[2]**3,        \n",
    "         2 * (p[3] - APLINKA[1]),\n",
    "         \n",
    "        -2 * (g[4] - p[4]/2)])"
   ]
  },
  {
   "cell_type": "code",
   "execution_count": 244,
   "id": "46ffe6ff",
   "metadata": {
    "ExecuteTime": {
     "end_time": "2023-11-30T08:05:07.331374Z",
     "start_time": "2023-11-30T08:05:07.323321Z"
    },
    "code_folding": [],
    "slideshow": {
     "slide_type": "slide"
    }
   },
   "outputs": [],
   "source": [
    "#[gyvio_tankis, gyvio_tūris, gyvio_paviršiaus_plotas, gyvio_miego_laikas, gyvio_greitis]\n",
    "#gyvis_pradinis = [100, 100, 42, 0, 5]\n",
    "\n",
    "gyvis_pradinis   = [0.3, 3, 2, 32, 2]\n",
    "g_senas = gyvis_pradinis\n",
    "\n",
    "#plėšrūno tūris, plėšrūno greitis\n",
    "plėšrūnas_pradinis = [14, 5, 4, 3, 3]\n",
    "p_senas = plėšrūnas_pradinis\n",
    "\n",
    "#APLINKA = [vandens_tankis, nakties_ilgis]\n",
    "APLINKA = [1, 12]\n",
    "\n",
    "\n",
    "mkarta = 0\n",
    "#gyvio loss \n",
    "ggloss = []\n",
    "#plesruno\n",
    "pploss = []\n",
    "gg = [[]]\n",
    "pp = [[]]"
   ]
  },
  {
   "cell_type": "code",
   "execution_count": 245,
   "id": "f243b3cc",
   "metadata": {
    "ExecuteTime": {
     "end_time": "2023-11-30T08:05:09.496799Z",
     "start_time": "2023-11-30T08:05:09.477958Z"
    },
    "code_folding": [
     6,
     20
    ],
    "slideshow": {
     "slide_type": "slide"
    }
   },
   "outputs": [
    {
     "name": "stdout",
     "output_type": "stream",
     "text": [
      "pradinis adaptyvumas = 0.00, karta = 0 \n",
      "gyvio adaptyvumas = 0.00, plėšrūno adaptyvumas = 0.00, karta = 0\n",
      "gyvio adaptyvumas = 0.00, plėšrūno adaptyvumas = 0.01, karta = 10\n",
      "gyvio adaptyvumas = 0.01, plėšrūno adaptyvumas = 0.01, karta = 20\n",
      "gyvio adaptyvumas = 0.01, plėšrūno adaptyvumas = 0.01, karta = 30\n",
      "gyvio adaptyvumas = 0.01, plėšrūno adaptyvumas = 0.02, karta = 40\n",
      "gyvio adaptyvumas = 0.02, plėšrūno adaptyvumas = 0.03, karta = 50\n",
      "gyvio adaptyvumas = 0.03, plėšrūno adaptyvumas = 0.04, karta = 60\n",
      "gyvio adaptyvumas = 0.04, plėšrūno adaptyvumas = 0.06, karta = 70\n",
      "gyvio adaptyvumas = 0.06, plėšrūno adaptyvumas = 0.09, karta = 80\n",
      "gyvio adaptyvumas = 0.08, plėšrūno adaptyvumas = 0.13, karta = 90\n"
     ]
    }
   ],
   "source": [
    "sparta = 0.01 #speju galime traktuoti, kaip tikimybe neisgyventi\n",
    "\n",
    "print(f\"pradinis adaptyvumas = {1/F(g_senas, p_senas):2.2f}, karta = 0 \")\n",
    "\n",
    "\n",
    "KARTOS = 100\n",
    "for karta in range(KARTOS):\n",
    "    \n",
    "    g = g_senas - sparta *gradF(g_senas, p_senas)\n",
    "    \n",
    "    p = p_senas - sparta *gradH(g_senas, p_senas )\n",
    "    \n",
    "    \n",
    "    \n",
    "    gloss = F(g, p)\n",
    "    ploss = H(g, p)\n",
    "    \n",
    "    ggloss.append(1/gloss)\n",
    "    pploss.append(1/ploss)\n",
    "    \n",
    "    if karta% (KARTOS/10) ==0:\n",
    "        print(f\"gyvio adaptyvumas = {1/gloss:2.2f}, plėšrūno adaptyvumas = {1/ploss:2.2f}, karta = {karta+mkarta}\")\n",
    "        \n",
    "    \n",
    "    g_senas = g\n",
    "    p_senas = p \n",
    "    \n",
    "    gg.append(g)\n",
    "    pp.append(p)\n",
    "    \n",
    "mkarta += KARTOS"
   ]
  },
  {
   "cell_type": "code",
   "execution_count": 254,
   "id": "66f85b31",
   "metadata": {
    "ExecuteTime": {
     "end_time": "2023-11-30T08:06:52.480651Z",
     "start_time": "2023-11-30T08:06:52.158490Z"
    },
    "code_folding": [],
    "slideshow": {
     "slide_type": "slide"
    }
   },
   "outputs": [
    {
     "data": {
      "image/png": "[encoded data removed]",
      "text/plain": [
       "<Figure size 640x480 with 1 Axes>"
      ]
     },
     "metadata": {},
     "output_type": "display_data"
    }
   ],
   "source": [
    "#plot\n",
    "plt.plot(ggloss, label = \"Gyvio adaptyvumas\")\n",
    "plt.plot(pploss, label = \"Plėšrūno adaptyvumas\")\n",
    "plt.ylabel('Adaptyvumas')\n",
    "plt.xlabel('Kartų skaičius')\n",
    "plt.legend()\n",
    "#for i,j in zip(p,g):\n",
    "    #print(f\"{i:2.2f} {j:2.2f}\")\n",
    "a=1 #kad nemestu plt return ant ekrano"
   ]
  },
  {
   "cell_type": "code",
   "execution_count": 253,
   "id": "24746694",
   "metadata": {
    "ExecuteTime": {
     "end_time": "2023-11-30T08:06:40.464773Z",
     "start_time": "2023-11-30T08:06:40.173678Z"
    },
    "code_folding": [
     0
    ],
    "slideshow": {
     "slide_type": "slide"
    }
   },
   "outputs": [
    {
     "data": {
      "image/png": "[encoded data removed]",
      "text/plain": [
       "<Figure size 640x480 with 1 Axes>"
      ]
     },
     "metadata": {},
     "output_type": "display_data"
    }
   ],
   "source": [
    "#plot\n",
    "ggg = np.array(gg[1:]).transpose()\n",
    "ppp = np.array(pp[1:]).transpose()\n",
    "glabels = [\"gyvio_tankis\", \"gyvio_tūris\", \"gyvio_paviršiaus_plotas\", \"gyvio_miego_laikas\", \"gyvio greitis\"]\n",
    "plabels = [\"P_tankis\",'plėšrūno tūris', \"P_paviršiaus_plotas\",\"P_miego_laikas\",'plėšrūno greitis' ]\n",
    "#plt.figure(figsize=(10,6))\n",
    "plt.plot(np.abs(ggg[4]), label = glabels[4])\n",
    "plt.plot(ppp[4], label = plabels[4], linestyle='dotted')\n",
    "plt.legend()\n",
    "plt.ylabel('Greitis')\n",
    "plt.xlabel(\"Kartos\")\n",
    "a =2"
   ]
  },
  {
   "cell_type": "markdown",
   "id": "b072d7b4",
   "metadata": {
    "slideshow": {
     "slide_type": "slide"
    }
   },
   "source": [
    "Apibendrintas Darvinas\n",
    "======================\n",
    "\n",
    "* Variacija\n",
    "* Išsilaikymas\n",
    "* Išskiriantis _adaptyvumas_ (fitness)"
   ]
  },
  {
   "cell_type": "markdown",
   "id": "1c62e100",
   "metadata": {
    "ExecuteTime": {
     "end_time": "2023-11-24T17:53:50.995352Z",
     "start_time": "2023-11-24T17:53:50.990720Z"
    },
    "slideshow": {
     "slide_type": "slide"
    }
   },
   "source": [
    "<img src=\"images/monkeys.png\" width=\"400\" align =\"center\" >\n",
    "<img src=\"images/gene.jpg\" width=\"400\" align =\"center\" >\n",
    "<img src=\"images/lions.png\" width=\"400\"  align=\"center\">"
   ]
  },
  {
   "cell_type": "markdown",
   "id": "c7004143",
   "metadata": {
    "ExecuteTime": {
     "end_time": "2023-11-30T06:22:57.495958Z",
     "start_time": "2023-11-30T06:22:57.484919Z"
    },
    "slideshow": {
     "slide_type": "slide"
    }
   },
   "source": [
    "<img src=\"images/kvariacija.jpg\" width=\"400\" align =\"center\" >\n",
    "<img src=\"images/kgenes2.png\" width=\"400\" align =\"center\" >\n",
    "<img src=\"images/kfit.jpg\" width=\"400\"  align=\"center\">"
   ]
  },
  {
   "cell_type": "markdown",
   "id": "5129e2ca",
   "metadata": {
    "slideshow": {
     "slide_type": "slide"
    }
   },
   "source": [
    "DI\n",
    "==\n",
    "\n",
    "1. Variacija?\n",
    "\n",
    "2. Išsilaikymas?\n",
    "\n",
    "3. Išskiriantis adapatyvumas?"
   ]
  },
  {
   "cell_type": "markdown",
   "id": "05aec9ee",
   "metadata": {
    "slideshow": {
     "slide_type": "slide"
    }
   },
   "source": [
    "DI Progresas\n",
    "============="
   ]
  },
  {
   "cell_type": "markdown",
   "id": "a35c5fa0",
   "metadata": {
    "ExecuteTime": {
     "end_time": "2023-11-30T05:28:30.349651Z",
     "start_time": "2023-11-30T05:28:30.342914Z"
    },
    "slideshow": {
     "slide_type": "slide"
    }
   },
   "source": [
    "<img src=\"images/mips.png\" width=\"900\"  align=\"center\">"
   ]
  },
  {
   "cell_type": "markdown",
   "id": "6535ec2f",
   "metadata": {
    "ExecuteTime": {
     "end_time": "2023-11-30T05:39:54.683009Z",
     "start_time": "2023-11-30T05:39:54.671626Z"
    },
    "slideshow": {
     "slide_type": "slide"
    }
   },
   "source": [
    "<img src=\"images/flops.png\" width=\"900\"  align=\"center\">"
   ]
  },
  {
   "cell_type": "markdown",
   "id": "e977f4ae",
   "metadata": {
    "ExecuteTime": {
     "end_time": "2023-11-29T13:14:55.603447Z",
     "start_time": "2023-11-29T13:14:55.591710Z"
    },
    "slideshow": {
     "slide_type": "slide"
    }
   },
   "source": [
    "<img src=\"singularity.gif\" width=\"750\" align=\"center\">"
   ]
  },
  {
   "cell_type": "markdown",
   "id": "20f2d4b9",
   "metadata": {
    "ExecuteTime": {
     "end_time": "2023-11-30T07:53:08.820847Z",
     "start_time": "2023-11-30T07:53:08.812345Z"
    },
    "slideshow": {
     "slide_type": "slide"
    }
   },
   "source": [
    "<img src=\"images/aikopernikas.png\" width=\"100%\"  align=\"center\"  alt=\"Koperniko revoliucija žmonių intelektui\">\n",
    "\n"
   ]
  },
  {
   "cell_type": "markdown",
   "id": "bdd867e0",
   "metadata": {
    "ExecuteTime": {
     "end_time": "2023-11-24T10:24:38.963908Z",
     "start_time": "2023-11-24T10:24:38.956157Z"
    },
    "heading_collapsed": true,
    "slideshow": {
     "slide_type": "slide"
    }
   },
   "source": [
    "## Bibliografija:\n",
    "    1. Hendrycks, Dan: Natural Selection Favors AIs over Humans, in: arXiv.org, 28.03.2023.\n",
    "    \n",
    "    1.1 https://aiimpacts.org/trends-in-the-cost-of-computing/\n",
    "    \n",
    "    2. „When will computer hardware match the human brain? , Hans Moravec, 1998\n",
    "    \n",
    "    3. Wikipedia contributors: Universal Darwinism, in: Wikipedia, 18.11.2023, [online] \n",
    "    \n",
    "    4. https://www.nature.com/articles/361489b0.pdf\n",
    "    \n",
    "    3. PAUL cristiano\n",
    "    \n",
    "    4. tedmark new life\n",
    "    5. evolution proves we're stupid, and we are interacting with interface not reality \n",
    "   \n",
    "    6. Sapiens Yuval Noah Harrari"
   ]
  }
 ],
 "metadata": {
  "celltoolbar": "Slideshow",
  "hide_input": false,
  "kernelspec": {
   "display_name": "Python 3 (ipykernel)",
   "language": "python",
   "name": "python3"
  },
  "language_info": {
   "codemirror_mode": {
    "name": "ipython",
    "version": 3
   },
   "file_extension": ".py",
   "mimetype": "text/x-python",
   "name": "python",
   "nbconvert_exporter": "python",
   "pygments_lexer": "ipython3",
   "version": "3.11.2"
  }
 },
 "nbformat": 4,
 "nbformat_minor": 5
}
